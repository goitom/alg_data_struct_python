{
 "cells": [
  {
   "cell_type": "markdown",
   "metadata": {},
   "source": [
    "### (1) Implement the simple methods **`getNum`** and **`getDen`** that will return the numerator and denominator of a fraction."
   ]
  },
  {
   "cell_type": "code",
   "execution_count": 11,
   "metadata": {
    "collapsed": true
   },
   "outputs": [],
   "source": [
    "def gcd(m, n):\n",
    "    while m%n !=0:\n",
    "        oldm = m\n",
    "        oldn = n\n",
    "        \n",
    "        m = oldn\n",
    "        n = oldm%oldn\n",
    "    return n\n",
    "\n",
    "class Fraction:\n",
    "\n",
    "    def __init__(self, top, bottom):\n",
    "        if (type(top) != int) or (type(bottom) != int):\n",
    "            raise TypeError(\"Numerator and Denominator must both be integers\")\n",
    "        else:\n",
    "            common = gcd(top, bottom)\n",
    "            self.num = top//common\n",
    "            self.den = bottom//common\n",
    "        \n",
    "\n",
    "    def __str__(self):\n",
    "        return str(self.num)+\"/\"+str(self.den)\n",
    "\n",
    "    def __add__(self, otherfrac):\n",
    "        newnum = self.num*otherfrac.den+otherfrac.num*self.den\n",
    "        newden = self.den*otherfrac.den\n",
    "        return Fraction(newnum, newden)\n",
    "    \n",
    "    def __sub__(self, otherfrac):\n",
    "        newnum = self.num*otherfrac.den-otherfrac.num*self.den\n",
    "        newden = self.den*otherfrac.den\n",
    "        return Fraction(newnum, newden)\n",
    "\n",
    "    def __mul__(self, otherfrac):\n",
    "        newnum = self.num*otherfrac.num\n",
    "        newden = self.den*otherfrac.den\n",
    "        return Fraction(newnum, newden)\n",
    "\n",
    "    def __truediv__(self, otherfrac):\n",
    "        newnum = self.num*otherfrac.den\n",
    "        newden = self.den*otherfrac.num\n",
    "        return Fraction(newnum, newden)\n",
    "    \n",
    "    def __eq__(self, other):\n",
    "        firstnum = self.num*other.den\n",
    "        secondnum = other.num*self.den\n",
    "\n",
    "        return firstnum==secondnum\n",
    "    \n",
    "    def __gt__(self, other):\n",
    "        firstnum = self.num*other.den\n",
    "        secondnum = other.num*self.den\n",
    "\n",
    "        return firstnum>secondnum\n",
    "        \n",
    "    def __ge__(self, other):\n",
    "        firstnum = self.num*other.den\n",
    "        secondnum = other.num*self.den\n",
    "        \n",
    "        return firstnum>=secondnum\n",
    "    \n",
    "    def __lt__(self, other):\n",
    "        firstnum = self.num*other.den\n",
    "        secondnum = other.num*self.den\n",
    "        \n",
    "        return firstnum<secondnum\n",
    "    \n",
    "    def __le__(self, other):\n",
    "        firstnum = self.num*other.den\n",
    "        secondnum = other.num*self.den\n",
    "        \n",
    "        return firstnum<=secondnum\n",
    "    \n",
    "    def __ne__(self, other):\n",
    "        firstnum = self.num*other.den\n",
    "        secondnum = other.num*self.den\n",
    "        \n",
    "        return firstnum!=secondnum\n",
    "\n",
    "    def getNum(self):\n",
    "        return self.num\n",
    "\n",
    "    def getDen(self):\n",
    "        return self.den"
   ]
  },
  {
   "cell_type": "code",
   "execution_count": 13,
   "metadata": {},
   "outputs": [
    {
     "name": "stdout",
     "output_type": "stream",
     "text": [
      "3\n",
      "5\n"
     ]
    },
    {
     "ename": "TypeError",
     "evalue": "Numerator and Denominator must both be integers",
     "output_type": "error",
     "traceback": [
      "\u001b[1;31m---------------------------------------------------------------------------\u001b[0m",
      "\u001b[1;31mTypeError\u001b[0m                                 Traceback (most recent call last)",
      "\u001b[1;32m<ipython-input-13-cb4e31688f88>\u001b[0m in \u001b[0;36m<module>\u001b[1;34m()\u001b[0m\n\u001b[0;32m      4\u001b[0m \u001b[0mprint\u001b[0m\u001b[1;33m(\u001b[0m\u001b[0mmyfraction\u001b[0m\u001b[1;33m.\u001b[0m\u001b[0mgetNum\u001b[0m\u001b[1;33m(\u001b[0m\u001b[1;33m)\u001b[0m\u001b[1;33m)\u001b[0m\u001b[1;33m\u001b[0m\u001b[0m\n\u001b[0;32m      5\u001b[0m \u001b[0mprint\u001b[0m \u001b[1;33m(\u001b[0m\u001b[0mmyfraction\u001b[0m\u001b[1;33m.\u001b[0m\u001b[0mgetDen\u001b[0m\u001b[1;33m(\u001b[0m\u001b[1;33m)\u001b[0m\u001b[1;33m)\u001b[0m\u001b[1;33m\u001b[0m\u001b[0m\n\u001b[1;32m----> 6\u001b[1;33m \u001b[0mtest\u001b[0m \u001b[1;33m=\u001b[0m \u001b[0mFraction\u001b[0m\u001b[1;33m(\u001b[0m\u001b[1;34m'A'\u001b[0m\u001b[1;33m,\u001b[0m\u001b[1;36m5\u001b[0m\u001b[1;33m)\u001b[0m\u001b[1;33m\u001b[0m\u001b[0m\n\u001b[0m",
      "\u001b[1;32m<ipython-input-11-04e8e808792e>\u001b[0m in \u001b[0;36m__init__\u001b[1;34m(self, top, bottom)\u001b[0m\n\u001b[0;32m     12\u001b[0m     \u001b[1;32mdef\u001b[0m \u001b[0m__init__\u001b[0m\u001b[1;33m(\u001b[0m\u001b[0mself\u001b[0m\u001b[1;33m,\u001b[0m \u001b[0mtop\u001b[0m\u001b[1;33m,\u001b[0m \u001b[0mbottom\u001b[0m\u001b[1;33m)\u001b[0m\u001b[1;33m:\u001b[0m\u001b[1;33m\u001b[0m\u001b[0m\n\u001b[0;32m     13\u001b[0m         \u001b[1;32mif\u001b[0m \u001b[1;33m(\u001b[0m\u001b[0mtype\u001b[0m\u001b[1;33m(\u001b[0m\u001b[0mtop\u001b[0m\u001b[1;33m)\u001b[0m \u001b[1;33m!=\u001b[0m \u001b[0mint\u001b[0m\u001b[1;33m)\u001b[0m \u001b[1;32mor\u001b[0m \u001b[1;33m(\u001b[0m\u001b[0mtype\u001b[0m\u001b[1;33m(\u001b[0m\u001b[0mbottom\u001b[0m\u001b[1;33m)\u001b[0m \u001b[1;33m!=\u001b[0m \u001b[0mint\u001b[0m\u001b[1;33m)\u001b[0m\u001b[1;33m:\u001b[0m\u001b[1;33m\u001b[0m\u001b[0m\n\u001b[1;32m---> 14\u001b[1;33m             \u001b[1;32mraise\u001b[0m \u001b[0mTypeError\u001b[0m\u001b[1;33m(\u001b[0m\u001b[1;34m\"Numerator and Denominator must both be integers\"\u001b[0m\u001b[1;33m)\u001b[0m\u001b[1;33m\u001b[0m\u001b[0m\n\u001b[0m\u001b[0;32m     15\u001b[0m         \u001b[1;32melse\u001b[0m\u001b[1;33m:\u001b[0m\u001b[1;33m\u001b[0m\u001b[0m\n\u001b[0;32m     16\u001b[0m             \u001b[0mcommon\u001b[0m \u001b[1;33m=\u001b[0m \u001b[0mgcd\u001b[0m\u001b[1;33m(\u001b[0m\u001b[0mtop\u001b[0m\u001b[1;33m,\u001b[0m \u001b[0mbottom\u001b[0m\u001b[1;33m)\u001b[0m\u001b[1;33m\u001b[0m\u001b[0m\n",
      "\u001b[1;31mTypeError\u001b[0m: Numerator and Denominator must both be integers"
     ]
    }
   ],
   "source": [
    "#Test the new methods\n",
    "myfraction = Fraction(3,5)\n",
    "otherfraction = Fraction(1,5)\n",
    "print(myfraction.getNum())\n",
    "print (myfraction.getDen())\n",
    "test = Fraction('A',5)"
   ]
  },
  {
   "cell_type": "markdown",
   "metadata": {},
   "source": [
    "### (2) In many ways it would be better if all fractions were maintained in the lowest terms right from the start. Modify the constructor for the **`Fraction`** class so that **`GCD`** is used to reduce fractions immediately. Notice that this means the **`__add__`** function no longer needs to reduce. Make the necessary modifications"
   ]
  },
  {
   "cell_type": "code",
   "execution_count": 8,
   "metadata": {},
   "outputs": [
    {
     "name": "stdout",
     "output_type": "stream",
     "text": [
      "3/4\n"
     ]
    }
   ],
   "source": [
    "f1=Fraction(1,4)\n",
    "f2=Fraction(1,2)\n",
    "f3=f1+f2\n",
    "print(f3)"
   ]
  },
  {
   "cell_type": "markdown",
   "metadata": {
    "collapsed": true
   },
   "source": [
    "### (3) Implement the remaining simple arithmetic operators (`__sub__`, `__mul__`, and `__truediv__`)."
   ]
  },
  {
   "cell_type": "code",
   "execution_count": 9,
   "metadata": {},
   "outputs": [
    {
     "name": "stdout",
     "output_type": "stream",
     "text": [
      "1/4\n",
      "1/8\n",
      "1/2\n"
     ]
    }
   ],
   "source": [
    "f1=Fraction(1,4)\n",
    "f2=Fraction(1,2)\n",
    "f3=f2-f1\n",
    "f4=f2*f1\n",
    "f5=f1/f2\n",
    "print(f3)\n",
    "print(f4)\n",
    "print(f5)"
   ]
  },
  {
   "cell_type": "markdown",
   "metadata": {},
   "source": [
    "### (4) Implement the remaining relational operators (`__gt__`, `__ge__`, `__lt__`, `__le__`, `__ne__`)"
   ]
  },
  {
   "cell_type": "code",
   "execution_count": 10,
   "metadata": {},
   "outputs": [
    {
     "name": "stdout",
     "output_type": "stream",
     "text": [
      "False\n",
      "False\n",
      "True\n",
      "True\n",
      "True\n"
     ]
    }
   ],
   "source": [
    "print(f1>f2)\n",
    "print(f1>=f2)\n",
    "print(f1<f2)\n",
    "print(f1<=f2)\n",
    "print(f1!=f2)"
   ]
  },
  {
   "cell_type": "markdown",
   "metadata": {},
   "source": [
    "### (5) Modify the constructor for the fraction class so that it checks to make sure that the numerator and denominator are both integers. If either is not an integer, the constructor should raise an exception."
   ]
  },
  {
   "cell_type": "code",
   "execution_count": 14,
   "metadata": {},
   "outputs": [
    {
     "ename": "TypeError",
     "evalue": "Numerator and Denominator must both be integers",
     "output_type": "error",
     "traceback": [
      "\u001b[1;31m---------------------------------------------------------------------------\u001b[0m",
      "\u001b[1;31mTypeError\u001b[0m                                 Traceback (most recent call last)",
      "\u001b[1;32m<ipython-input-14-f59c41f37b7f>\u001b[0m in \u001b[0;36m<module>\u001b[1;34m()\u001b[0m\n\u001b[1;32m----> 1\u001b[1;33m \u001b[0mtest\u001b[0m \u001b[1;33m=\u001b[0m \u001b[0mFraction\u001b[0m\u001b[1;33m(\u001b[0m\u001b[1;34m'A'\u001b[0m\u001b[1;33m,\u001b[0m\u001b[1;36m5\u001b[0m\u001b[1;33m)\u001b[0m\u001b[1;33m\u001b[0m\u001b[0m\n\u001b[0m",
      "\u001b[1;32m<ipython-input-11-04e8e808792e>\u001b[0m in \u001b[0;36m__init__\u001b[1;34m(self, top, bottom)\u001b[0m\n\u001b[0;32m     12\u001b[0m     \u001b[1;32mdef\u001b[0m \u001b[0m__init__\u001b[0m\u001b[1;33m(\u001b[0m\u001b[0mself\u001b[0m\u001b[1;33m,\u001b[0m \u001b[0mtop\u001b[0m\u001b[1;33m,\u001b[0m \u001b[0mbottom\u001b[0m\u001b[1;33m)\u001b[0m\u001b[1;33m:\u001b[0m\u001b[1;33m\u001b[0m\u001b[0m\n\u001b[0;32m     13\u001b[0m         \u001b[1;32mif\u001b[0m \u001b[1;33m(\u001b[0m\u001b[0mtype\u001b[0m\u001b[1;33m(\u001b[0m\u001b[0mtop\u001b[0m\u001b[1;33m)\u001b[0m \u001b[1;33m!=\u001b[0m \u001b[0mint\u001b[0m\u001b[1;33m)\u001b[0m \u001b[1;32mor\u001b[0m \u001b[1;33m(\u001b[0m\u001b[0mtype\u001b[0m\u001b[1;33m(\u001b[0m\u001b[0mbottom\u001b[0m\u001b[1;33m)\u001b[0m \u001b[1;33m!=\u001b[0m \u001b[0mint\u001b[0m\u001b[1;33m)\u001b[0m\u001b[1;33m:\u001b[0m\u001b[1;33m\u001b[0m\u001b[0m\n\u001b[1;32m---> 14\u001b[1;33m             \u001b[1;32mraise\u001b[0m \u001b[0mTypeError\u001b[0m\u001b[1;33m(\u001b[0m\u001b[1;34m\"Numerator and Denominator must both be integers\"\u001b[0m\u001b[1;33m)\u001b[0m\u001b[1;33m\u001b[0m\u001b[0m\n\u001b[0m\u001b[0;32m     15\u001b[0m         \u001b[1;32melse\u001b[0m\u001b[1;33m:\u001b[0m\u001b[1;33m\u001b[0m\u001b[0m\n\u001b[0;32m     16\u001b[0m             \u001b[0mcommon\u001b[0m \u001b[1;33m=\u001b[0m \u001b[0mgcd\u001b[0m\u001b[1;33m(\u001b[0m\u001b[0mtop\u001b[0m\u001b[1;33m,\u001b[0m \u001b[0mbottom\u001b[0m\u001b[1;33m)\u001b[0m\u001b[1;33m\u001b[0m\u001b[0m\n",
      "\u001b[1;31mTypeError\u001b[0m: Numerator and Denominator must both be integers"
     ]
    }
   ],
   "source": [
    "test = Fraction('A',5)"
   ]
  },
  {
   "cell_type": "markdown",
   "metadata": {},
   "source": [
    "### (6) In the definition of fractions we assumed that negative fractions have a negative numerator and a positive denominator. Using a negative denominator would cause some of the relational operators to give incorrect results. In general, this is an unnecessary constraint. Modify the constructor to allow the user to pass a negative denominator so that all of the operators continue to work properly."
   ]
  },
  {
   "cell_type": "code",
   "execution_count": 27,
   "metadata": {},
   "outputs": [
    {
     "name": "stdout",
     "output_type": "stream",
     "text": [
      "1/4\n",
      "-1/2\n",
      "True\n"
     ]
    }
   ],
   "source": [
    "test1=Fraction(1,4)\n",
    "test2=Fraction(1,-2)\n",
    "print(test1)\n",
    "print(test2)\n",
    "print(test1>test2)"
   ]
  },
  {
   "cell_type": "code",
   "execution_count": null,
   "metadata": {
    "collapsed": true
   },
   "outputs": [],
   "source": []
  }
 ],
 "metadata": {
  "kernelspec": {
   "display_name": "Python 3",
   "language": "python",
   "name": "python3"
  },
  "language_info": {
   "codemirror_mode": {
    "name": "ipython",
    "version": 3
   },
   "file_extension": ".py",
   "mimetype": "text/x-python",
   "name": "python",
   "nbconvert_exporter": "python",
   "pygments_lexer": "ipython3",
   "version": "3.6.2"
  }
 },
 "nbformat": 4,
 "nbformat_minor": 2
}
